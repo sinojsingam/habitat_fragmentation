{
 "cells": [
  {
   "cell_type": "code",
   "execution_count": 1,
   "metadata": {},
   "outputs": [],
   "source": [
    "import rasterio\n",
    "import fiona\n",
    "from rasterio import Affine as A\n",
    "from rasterio.warp import calculate_default_transform, reproject, Resampling\n",
    "import rasterio.features\n",
    "import geopandas as gpd\n",
    "from shapely.geometry import shape\n",
    "import numpy as np\n",
    "import math\n",
    "import matplotlib.pyplot as plt\n",
    "import pandas as pd\n",
    "from sklearn.metrics import confusion_matrix\n",
    "from sklearn.metrics import accuracy_score\n"
   ]
  },
  {
   "cell_type": "code",
   "execution_count": 2,
   "metadata": {},
   "outputs": [],
   "source": [
    "gdf = gpd.read_file('../points_defor/points_grid.shp')\n",
    "years = [2005,2006,2007,2008,2009,2010,2011]\n",
    "\n",
    "\n",
    "# Define the function\n",
    "def check_point(row):\n",
    "    # Get the row and column of the point in the raster\n",
    "    row, col = src.index(row.geometry.x, row.geometry.y)\n",
    "    \n",
    "    # Check if the point overlays a pixel of 1\n",
    "    if raster_array[row, col] == 1:\n",
    "        return True\n",
    "    else:\n",
    "        return False\n",
    "for year in years:\n",
    "    image = f\"../classification/reclassified/reclassif_filter_{year}.tif\"\n",
    "    with rasterio.open(image) as src:\n",
    "        raster_array = src.read(1)\n",
    "    gdf[f'overlays_{year}'] = gdf.apply(check_point, axis=1)"
   ]
  },
  {
   "cell_type": "code",
   "execution_count": 8,
   "metadata": {},
   "outputs": [
    {
     "data": {
      "image/png": "[encoded data removed]",
      "text/plain": [
       "<Figure size 640x480 with 1 Axes>"
      ]
     },
     "metadata": {},
     "output_type": "display_data"
    },
    {
     "data": {
      "text/plain": [
       "<Figure size 640x480 with 0 Axes>"
      ]
     },
     "metadata": {},
     "output_type": "display_data"
    }
   ],
   "source": [
    "validation =  gdf.iloc[:, 8:]\n",
    "validation['deforestat']\n",
    "overlays_columns = validation.filter(like='overlays_')\n",
    "result = ~overlays_columns.any(axis=1)\n",
    "\n",
    "df = pd.concat([gdf['fid'],validation['deforestat'], overlays_columns], axis=1)\n",
    "df['fid'] = df['fid'].astype(int)\n",
    "overlays = df.filter(like='overlays_')\n",
    "df[overlays.columns] = overlays.map(lambda x: 1 if x else 0)\n",
    "for year in years:\n",
    "    df[f'true_{year}'] = df['deforestat'].apply(lambda x: 1 if x <= year and x != 0 else 0)\n",
    "\n",
    "accuracy_dict = {}\n",
    "for year in years:\n",
    "    y_true = df[f'true_{year}']\n",
    "    y_pred = df[f'overlays_{year}']\n",
    "    conf_matrix = confusion_matrix(y_true, y_pred)\n",
    "    acx = accuracy_score(y_true, y_pred)\n",
    "    accuracy_dict[year] = acx\n",
    "\n",
    "# Create bar graph\n",
    "plt.bar(accuracy_dict.keys(), accuracy_dict.values(),color='#BA55D3')\n",
    "plt.xlabel('Year')\n",
    "plt.ylabel('Accuracy')\n",
    "plt.title('Accuracy for each year')\n",
    "plt.show()\n",
    "plt.savefig('plot.png', transparent=True)"
   ]
  },
  {
   "cell_type": "code",
   "execution_count": 4,
   "metadata": {},
   "outputs": [
    {
     "name": "stderr",
     "output_type": "stream",
     "text": [
      "/var/folders/3q/vbmvllns40b4bvjdkg7v7lkh0000gn/T/ipykernel_54637/1498544045.py:2: SettingWithCopyWarning: \n",
      "A value is trying to be set on a copy of a slice from a DataFrame.\n",
      "Try using .loc[row_indexer,col_indexer] = value instead\n",
      "\n",
      "See the caveats in the documentation: https://pandas.pydata.org/pandas-docs/stable/user_guide/indexing.html#returning-a-view-versus-a-copy\n",
      "  df_2011['diff'] = ((df_2011['true_2011'] == 1) & (df_2011['overlays_2011'] == 0)).astype(int)\n"
     ]
    },
    {
     "data": {
      "text/html": [
       "<div>\n",
       "<style scoped>\n",
       "    .dataframe tbody tr th:only-of-type {\n",
       "        vertical-align: middle;\n",
       "    }\n",
       "\n",
       "    .dataframe tbody tr th {\n",
       "        vertical-align: top;\n",
       "    }\n",
       "\n",
       "    .dataframe thead th {\n",
       "        text-align: right;\n",
       "    }\n",
       "</style>\n",
       "<table border=\"1\" class=\"dataframe\">\n",
       "  <thead>\n",
       "    <tr style=\"text-align: right;\">\n",
       "      <th></th>\n",
       "      <th>fid</th>\n",
       "      <th>true_2011</th>\n",
       "      <th>overlays_2011</th>\n",
       "      <th>diff</th>\n",
       "    </tr>\n",
       "  </thead>\n",
       "  <tbody>\n",
       "    <tr>\n",
       "      <th>0</th>\n",
       "      <td>35</td>\n",
       "      <td>0</td>\n",
       "      <td>0</td>\n",
       "      <td>0</td>\n",
       "    </tr>\n",
       "    <tr>\n",
       "      <th>1</th>\n",
       "      <td>36</td>\n",
       "      <td>0</td>\n",
       "      <td>0</td>\n",
       "      <td>0</td>\n",
       "    </tr>\n",
       "    <tr>\n",
       "      <th>2</th>\n",
       "      <td>51</td>\n",
       "      <td>0</td>\n",
       "      <td>0</td>\n",
       "      <td>0</td>\n",
       "    </tr>\n",
       "    <tr>\n",
       "      <th>3</th>\n",
       "      <td>52</td>\n",
       "      <td>0</td>\n",
       "      <td>1</td>\n",
       "      <td>0</td>\n",
       "    </tr>\n",
       "    <tr>\n",
       "      <th>4</th>\n",
       "      <td>122</td>\n",
       "      <td>0</td>\n",
       "      <td>0</td>\n",
       "      <td>0</td>\n",
       "    </tr>\n",
       "    <tr>\n",
       "      <th>...</th>\n",
       "      <td>...</td>\n",
       "      <td>...</td>\n",
       "      <td>...</td>\n",
       "      <td>...</td>\n",
       "    </tr>\n",
       "    <tr>\n",
       "      <th>82</th>\n",
       "      <td>349</td>\n",
       "      <td>1</td>\n",
       "      <td>1</td>\n",
       "      <td>0</td>\n",
       "    </tr>\n",
       "    <tr>\n",
       "      <th>83</th>\n",
       "      <td>357</td>\n",
       "      <td>1</td>\n",
       "      <td>1</td>\n",
       "      <td>0</td>\n",
       "    </tr>\n",
       "    <tr>\n",
       "      <th>84</th>\n",
       "      <td>365</td>\n",
       "      <td>1</td>\n",
       "      <td>1</td>\n",
       "      <td>0</td>\n",
       "    </tr>\n",
       "    <tr>\n",
       "      <th>85</th>\n",
       "      <td>369</td>\n",
       "      <td>0</td>\n",
       "      <td>0</td>\n",
       "      <td>0</td>\n",
       "    </tr>\n",
       "    <tr>\n",
       "      <th>86</th>\n",
       "      <td>379</td>\n",
       "      <td>1</td>\n",
       "      <td>1</td>\n",
       "      <td>0</td>\n",
       "    </tr>\n",
       "  </tbody>\n",
       "</table>\n",
       "<p>87 rows × 4 columns</p>\n",
       "</div>"
      ],
      "text/plain": [
       "    fid  true_2011  overlays_2011  diff\n",
       "0    35          0              0     0\n",
       "1    36          0              0     0\n",
       "2    51          0              0     0\n",
       "3    52          0              1     0\n",
       "4   122          0              0     0\n",
       "..  ...        ...            ...   ...\n",
       "82  349          1              1     0\n",
       "83  357          1              1     0\n",
       "84  365          1              1     0\n",
       "85  369          0              0     0\n",
       "86  379          1              1     0\n",
       "\n",
       "[87 rows x 4 columns]"
      ]
     },
     "execution_count": 4,
     "metadata": {},
     "output_type": "execute_result"
    }
   ],
   "source": [
    "df_2011 = df[['fid','true_2011','overlays_2011']]\n",
    "df_2011['diff'] = ((df_2011['true_2011'] == 1) & (df_2011['overlays_2011'] == 0)).astype(int)\n",
    "\n",
    "df_2011"
   ]
  },
  {
   "cell_type": "code",
   "execution_count": 5,
   "metadata": {},
   "outputs": [],
   "source": [
    "merged_df = gdf.merge(df_2011, on='fid', how='inner')\n",
    "#merged_df.to_file(\"../points_defor/difference2011.gpkg\", driver=\"GPKG\")"
   ]
  },
  {
   "cell_type": "code",
   "execution_count": 6,
   "metadata": {},
   "outputs": [],
   "source": [
    "merged_df['fid'] = merged_df['fid'].astype(int)\n",
    "merged_df.to_file(\"merged_df.gpkg\", driver=\"GPKG\")"
   ]
  },
  {
   "cell_type": "code",
   "execution_count": 42,
   "metadata": {},
   "outputs": [
    {
     "data": {
      "image/png": "[encoded data removed]",
      "text/plain": [
       "<Figure size 640x480 with 1 Axes>"
      ]
     },
     "metadata": {},
     "output_type": "display_data"
    }
   ],
   "source": [
    "import matplotlib as mpl\n",
    "\n",
    "mpl.rc('font', family='Arial')\n",
    "mpl.rc('xtick', labelcolor='#4D4D4D')\n",
    "mpl.rc('ytick', labelcolor='#4D4D4D')\n",
    "\n",
    "fig, ax = plt.subplots()\n",
    "#plt.minorticks_on()\n",
    "#plt.grid(which='minor', linestyle='-', linewidth='0.5', color='grey')\n",
    "ax.bar(accuracy_dict.keys(), accuracy_dict.values(), color='#BA55D3',width=0.3)\n",
    "plt.xlabel('Year', color='#4D4D4D')\n",
    "plt.ylabel('Accuracy', color='#4D4D4D')\n",
    "plt.title('Accuracy for each year', color='#4D4D4D')\n",
    "for spine in ax.spines.values():\n",
    "    spine.set_color('#4D4D4D')\n",
    "ax.tick_params(colors='#4D4D4D')\n",
    "\n",
    "plt.savefig('accuracy.png', transparent=True)\n",
    "\n",
    "#plt.savefig('plot.png', transparent=True)"
   ]
  },
  {
   "cell_type": "code",
   "execution_count": 14,
   "metadata": {},
   "outputs": [
    {
     "data": {
      "text/plain": [
       "{2005: 1.0,\n",
       " 2006: 0.8735632183908046,\n",
       " 2007: 0.8275862068965517,\n",
       " 2008: 0.7816091954022989,\n",
       " 2009: 0.8045977011494253,\n",
       " 2010: 0.7701149425287356,\n",
       " 2011: 0.7241379310344828}"
      ]
     },
     "execution_count": 14,
     "metadata": {},
     "output_type": "execute_result"
    }
   ],
   "source": [
    "accuracy_dict"
   ]
  },
  {
   "cell_type": "code",
   "execution_count": null,
   "metadata": {},
   "outputs": [],
   "source": []
  }
 ],
 "metadata": {
  "kernelspec": {
   "display_name": "Python 3",
   "language": "python",
   "name": "python3"
  },
  "language_info": {
   "codemirror_mode": {
    "name": "ipython",
    "version": 3
   },
   "file_extension": ".py",
   "mimetype": "text/x-python",
   "name": "python",
   "nbconvert_exporter": "python",
   "pygments_lexer": "ipython3",
   "version": "3.11.4"
  }
 },
 "nbformat": 4,
 "nbformat_minor": 2
}
